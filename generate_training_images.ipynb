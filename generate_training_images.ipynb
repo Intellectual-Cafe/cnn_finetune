{
 "cells": [
  {
   "cell_type": "markdown",
   "metadata": {},
   "source": [
    "# Generate Training Images"
   ]
  },
  {
   "cell_type": "code",
   "execution_count": 1,
   "metadata": {},
   "outputs": [
    {
     "name": "stderr",
     "output_type": "stream",
     "text": [
      "/home/dries/.conda/envs/tf3.5/lib/python3.5/site-packages/h5py/__init__.py:36: FutureWarning: Conversion of the second argument of issubdtype from `float` to `np.floating` is deprecated. In future, it will be treated as `np.float64 == np.dtype(float).type`.\n",
      "  from ._conv import register_converters as _register_converters\n"
     ]
    }
   ],
   "source": [
    "import sys\n",
    "from PIL import Image\n",
    "import os\n",
    "from datetime import datetime\n",
    "import random\n",
    "from glob import glob\n",
    "import numpy as np\n",
    "import tensorflow as tf\n",
    "from skimage import color, io, exposure\n",
    "from scipy.misc import imresize\n",
    "\n",
    "import matplotlib.pyplot as plt\n",
    "import matplotlib.image as mpimg\n",
    "\n",
    "from sklearn.model_selection import train_test_split"
   ]
  },
  {
   "cell_type": "markdown",
   "metadata": {},
   "source": [
    "### Fetch Images"
   ]
  },
  {
   "cell_type": "code",
   "execution_count": 2,
   "metadata": {},
   "outputs": [],
   "source": [
    "data_path = './data'\n",
    "\n",
    "def generate_images(folder_name, new_folder_name, ext='*.jpg'):\n",
    "    '''Fetch all image files in specified folder\n",
    "    # Args:\n",
    "        folder_name: name of folder\n",
    "        label: class label associated with images in folder\n",
    "    '''\n",
    "\n",
    "    path = os.path.join(data_path, folder_name, ext)\n",
    "    new_path = os.path.join(data_path, new_folder_name)\n",
    "    print(new_path)\n",
    "    print(path)\n",
    "    files = sorted(glob(path))\n",
    "\n",
    "    img_1 = Image.open('./data/identifiers/id1-1.png')\n",
    "    img_2 = Image.open('./data/identifiers/id2-1.png')\n",
    "    \n",
    "    count_1 = 0; count_2 = 0\n",
    "    for f in files:\n",
    "        try:\n",
    "            img = Image.open(f)\n",
    "        except:\n",
    "            pass\n",
    "        w, h = img.size\n",
    "        if random.random() < 0.5:\n",
    "            _wh = int(random.uniform(0.3, 1.5) * 100.0)\n",
    "            _img_1 = img_1.resize((_wh, _wh), Image.ANTIALIAS)\n",
    "            _w, _h = _img_1.size\n",
    "            _x = int(random.random() * (w - _w))\n",
    "            _y = int(random.random() * (h - _h))\n",
    "            try:\n",
    "                img.paste(_img_1, (_x, _y))\n",
    "                img.save('{}/1/{}.jpg'.format(new_path,count_1))\n",
    "            except:\n",
    "                print('Exception: {}'.format(f))\n",
    "            count_1 += 1\n",
    "            #print('Generated {}'.format(count_1))\n",
    "        else:\n",
    "            _wh = int(random.uniform(0.3, 1.5) * 100.0)\n",
    "            _img_2 = img_2.resize((_wh, _wh), Image.ANTIALIAS)\n",
    "            _w, _h = _img_2.size\n",
    "            _x = int(random.random() * (w - _w))\n",
    "            _y = int(random.random() * (h - _h))\n",
    "            try:\n",
    "                img.paste(_img_2, (_x,_y))\n",
    "                img.save('{}/2/{}.jpg'.format(new_path,count_2))\n",
    "            except:\n",
    "                print('Exception: {}'.format(f))\n",
    "            count_2 += 1\n",
    "            #print('Generated {}'.format(count_2))\n"
   ]
  },
  {
   "cell_type": "code",
   "execution_count": 3,
   "metadata": {
    "scrolled": true
   },
   "outputs": [
    {
     "name": "stdout",
     "output_type": "stream",
     "text": [
      "./data/generated_train\n",
      "./data/train/*.jpg\n",
      "./data/generated_val\n",
      "./data/validation/*.jpg\n"
     ]
    }
   ],
   "source": [
    "generate_images(folder_name='train', new_folder_name='generated_train')\n",
    "generate_images(folder_name='validation', new_folder_name='generated_val')\n"
   ]
  }
 ],
 "metadata": {
  "kernelspec": {
   "display_name": "Python 3",
   "language": "python",
   "name": "python3"
  },
  "language_info": {
   "codemirror_mode": {
    "name": "ipython",
    "version": 3
   },
   "file_extension": ".py",
   "mimetype": "text/x-python",
   "name": "python",
   "nbconvert_exporter": "python",
   "pygments_lexer": "ipython3",
   "version": "3.5.4"
  }
 },
 "nbformat": 4,
 "nbformat_minor": 2
}
