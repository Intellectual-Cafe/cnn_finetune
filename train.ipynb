{
 "cells": [
  {
   "cell_type": "markdown",
   "metadata": {},
   "source": [
    "# Train Keras Model"
   ]
  },
  {
   "cell_type": "code",
   "execution_count": 1,
   "metadata": {},
   "outputs": [
    {
     "name": "stderr",
     "output_type": "stream",
     "text": [
      "/home/dries/.conda/envs/tf3.5/lib/python3.5/site-packages/h5py/__init__.py:36: FutureWarning: Conversion of the second argument of issubdtype from `float` to `np.floating` is deprecated. In future, it will be treated as `np.float64 == np.dtype(float).type`.\n",
      "  from ._conv import register_converters as _register_converters\n",
      "Using TensorFlow backend.\n"
     ]
    }
   ],
   "source": [
    "import os\n",
    "from glob import glob\n",
    "import numpy as np\n",
    "from PIL import Image\n",
    "\n",
    "from keras.preprocessing.image import ImageDataGenerator\n",
    "from keras.models import Sequential\n",
    "from keras.models import load_model\n",
    "from keras.layers import Conv2D, MaxPooling2D\n",
    "from keras.layers import Activation, Dropout, Flatten, Dense\n",
    "from keras.callbacks import TensorBoard\n",
    "from keras import backend as K\n",
    "\n",
    "import datetime"
   ]
  },
  {
   "cell_type": "code",
   "execution_count": 2,
   "metadata": {},
   "outputs": [],
   "source": [
    "# dimensions of our images.\n",
    "img_width, img_height = 150, 150\n",
    "\n",
    "train_data_dir = 'data/generated_train'\n",
    "validation_data_dir = 'data/generated_val'\n",
    "#nb_train_samples = 2000\n",
    "#nb_validation_samples = 800\n",
    "epochs = 20\n",
    "batch_size = 32\n",
    "\n",
    "if K.image_data_format() == 'channels_first':\n",
    "    input_shape = (3, img_width, img_height)\n",
    "else:\n",
    "    input_shape = (img_width, img_height, 3)"
   ]
  },
  {
   "cell_type": "code",
   "execution_count": 3,
   "metadata": {},
   "outputs": [],
   "source": [
    "model = Sequential()\n",
    "model.add(Conv2D(32, (3, 3), input_shape=input_shape))\n",
    "model.add(Activation('relu'))\n",
    "model.add(MaxPooling2D(pool_size=(2, 2)))\n",
    "\n",
    "model.add(Conv2D(32, (3, 3)))\n",
    "model.add(Activation('relu'))\n",
    "model.add(MaxPooling2D(pool_size=(2, 2)))\n",
    "\n",
    "model.add(Conv2D(64, (3, 3)))\n",
    "model.add(Activation('relu'))\n",
    "model.add(MaxPooling2D(pool_size=(2, 2)))\n",
    "\n",
    "model.add(Flatten())\n",
    "model.add(Dense(64))\n",
    "model.add(Activation('relu'))\n",
    "model.add(Dropout(0.5))\n",
    "model.add(Dense(1))\n",
    "model.add(Activation('sigmoid'))\n",
    "\n",
    "model.compile(loss='binary_crossentropy',\n",
    "              optimizer='rmsprop',\n",
    "metrics=['accuracy'])"
   ]
  },
  {
   "cell_type": "code",
   "execution_count": 4,
   "metadata": {},
   "outputs": [
    {
     "name": "stdout",
     "output_type": "stream",
     "text": [
      "Found 2728 images belonging to 2 classes.\n"
     ]
    }
   ],
   "source": [
    "# this is the augmentation configuration we will use for training\n",
    "train_datagen = ImageDataGenerator(\n",
    "    rescale=1. / 255,\n",
    "    shear_range=0.2,\n",
    "    zoom_range=0.2,\n",
    "    horizontal_flip=False)\n",
    "\n",
    "# this is the augmentation configuration we will use for testing:\n",
    "# only rescaling\n",
    "test_datagen = ImageDataGenerator(rescale=1. / 255)\n",
    "\n",
    "train_generator = train_datagen.flow_from_directory(\n",
    "    train_data_dir,\n",
    "    target_size=(img_width, img_height),\n",
    "    batch_size=batch_size,\n",
    "class_mode='binary')"
   ]
  },
  {
   "cell_type": "code",
   "execution_count": 5,
   "metadata": {},
   "outputs": [
    {
     "name": "stdout",
     "output_type": "stream",
     "text": [
      "Found 869 images belonging to 2 classes.\n"
     ]
    }
   ],
   "source": [
    "validation_generator = test_datagen.flow_from_directory(\n",
    "    validation_data_dir,\n",
    "    target_size=(img_width, img_height),\n",
    "    batch_size=batch_size,\n",
    "class_mode='binary')"
   ]
  },
  {
   "cell_type": "code",
   "execution_count": 6,
   "metadata": {},
   "outputs": [],
   "source": [
    "tensorboard = TensorBoard(log_dir='logs/{}'.format(datetime.datetime.now()), histogram_freq=0, batch_size=32, write_graph=True, write_grads=False, write_images=False, embeddings_freq=0, embeddings_layer_names=None, embeddings_metadata=None)"
   ]
  },
  {
   "cell_type": "code",
   "execution_count": 7,
   "metadata": {
    "scrolled": true
   },
   "outputs": [
    {
     "name": "stdout",
     "output_type": "stream",
     "text": [
      "Epoch 1/20\n",
      "85/85 [==============================] - 25s 299ms/step - loss: 0.7050 - acc: 0.4927 - val_loss: 0.6918 - val_acc: 0.5266\n",
      "Epoch 2/20\n",
      "85/85 [==============================] - 23s 265ms/step - loss: 0.6938 - acc: 0.5334 - val_loss: 0.6747 - val_acc: 0.6238\n",
      "Epoch 3/20\n",
      "85/85 [==============================] - 22s 260ms/step - loss: 0.6769 - acc: 0.6026 - val_loss: 0.6261 - val_acc: 0.6956\n",
      "Epoch 4/20\n",
      "85/85 [==============================] - 22s 260ms/step - loss: 0.6492 - acc: 0.6607 - val_loss: 0.5843 - val_acc: 0.7373\n",
      "Epoch 5/20\n",
      "85/85 [==============================] - 22s 259ms/step - loss: 0.5943 - acc: 0.7143 - val_loss: 0.4987 - val_acc: 0.8113\n",
      "Epoch 6/20\n",
      "85/85 [==============================] - 22s 261ms/step - loss: 0.5116 - acc: 0.7750 - val_loss: 0.4029 - val_acc: 0.8611\n",
      "Epoch 7/20\n",
      "85/85 [==============================] - 23s 268ms/step - loss: 0.4094 - acc: 0.8335 - val_loss: 0.2836 - val_acc: 0.9144\n",
      "Epoch 8/20\n",
      "85/85 [==============================] - 23s 275ms/step - loss: 0.3664 - acc: 0.8647 - val_loss: 0.1941 - val_acc: 0.9410\n",
      "Epoch 9/20\n",
      "85/85 [==============================] - 22s 259ms/step - loss: 0.3034 - acc: 0.8949 - val_loss: 0.1600 - val_acc: 0.9468\n",
      "Epoch 10/20\n",
      "85/85 [==============================] - 22s 257ms/step - loss: 0.2620 - acc: 0.9114 - val_loss: 0.1539 - val_acc: 0.9479\n",
      "Epoch 11/20\n",
      "85/85 [==============================] - 22s 258ms/step - loss: 0.2377 - acc: 0.9221 - val_loss: 0.0989 - val_acc: 0.9792\n",
      "Epoch 12/20\n",
      "85/85 [==============================] - 23s 266ms/step - loss: 0.2257 - acc: 0.9254 - val_loss: 0.1183 - val_acc: 0.9711\n",
      "Epoch 13/20\n",
      "85/85 [==============================] - 23s 266ms/step - loss: 0.2191 - acc: 0.9316 - val_loss: 0.0795 - val_acc: 0.9792\n",
      "Epoch 14/20\n",
      "85/85 [==============================] - 22s 263ms/step - loss: 0.1588 - acc: 0.9478 - val_loss: 0.0701 - val_acc: 0.9803\n",
      "Epoch 15/20\n",
      "85/85 [==============================] - 22s 258ms/step - loss: 0.1542 - acc: 0.9452 - val_loss: 0.0676 - val_acc: 0.9792\n",
      "Epoch 16/20\n",
      "85/85 [==============================] - 23s 269ms/step - loss: 0.1517 - acc: 0.9511 - val_loss: 0.0696 - val_acc: 0.9838\n",
      "Epoch 17/20\n",
      "85/85 [==============================] - 22s 260ms/step - loss: 0.1455 - acc: 0.9533 - val_loss: 0.0416 - val_acc: 0.9884\n",
      "Epoch 18/20\n",
      "85/85 [==============================] - 22s 261ms/step - loss: 0.1396 - acc: 0.9519 - val_loss: 0.0824 - val_acc: 0.9803\n",
      "Epoch 19/20\n",
      "85/85 [==============================] - 22s 263ms/step - loss: 0.1707 - acc: 0.9474 - val_loss: 0.0608 - val_acc: 0.9873\n",
      "Epoch 20/20\n",
      "85/85 [==============================] - 23s 268ms/step - loss: 0.1278 - acc: 0.9654 - val_loss: 0.0965 - val_acc: 0.9780\n"
     ]
    }
   ],
   "source": [
    "nb_train_samples = 2728\n",
    "nb_validation_samples = 869\n",
    "model.fit_generator(\n",
    "    train_generator,\n",
    "    steps_per_epoch=nb_train_samples // batch_size,\n",
    "    epochs=epochs,\n",
    "    callbacks=[tensorboard],\n",
    "    validation_data=validation_generator,\n",
    "    validation_steps=nb_validation_samples // batch_size)\n",
    "\n",
    "model.save('first_try.h5')\n",
    "from keras.models import load_model"
   ]
  },
  {
   "cell_type": "code",
   "execution_count": 8,
   "metadata": {},
   "outputs": [
    {
     "name": "stdout",
     "output_type": "stream",
     "text": [
      "./data/test/1.jpg - [[1]]\n",
      "./data/test/10.jpg - [[1]]\n",
      "./data/test/11.jpg - [[1]]\n",
      "./data/test/12.jpg - [[1]]\n",
      "./data/test/13.jpg - [[1]]\n",
      "./data/test/14.jpg - [[1]]\n",
      "./data/test/15.jpg - [[1]]\n",
      "./data/test/16.jpg - [[1]]\n",
      "./data/test/17.jpg - [[0]]\n",
      "./data/test/18.jpg - [[0]]\n",
      "./data/test/19.jpg - [[0]]\n",
      "./data/test/2.jpg - [[1]]\n",
      "./data/test/20.jpg - [[0]]\n",
      "./data/test/21.jpg - [[0]]\n",
      "./data/test/22.jpg - [[0]]\n",
      "./data/test/23.jpg - [[0]]\n",
      "./data/test/24.jpg - [[0]]\n",
      "./data/test/25.jpg - [[0]]\n",
      "./data/test/26.jpg - [[0]]\n",
      "./data/test/27.jpg - [[1]]\n",
      "./data/test/28.jpg - [[1]]\n",
      "./data/test/29.jpg - [[1]]\n",
      "./data/test/3.jpg - [[0]]\n",
      "./data/test/30.jpg - [[1]]\n",
      "./data/test/31.jpg - [[1]]\n",
      "./data/test/4.jpg - [[0]]\n",
      "./data/test/5.jpg - [[0]]\n",
      "./data/test/6.jpg - [[0]]\n",
      "./data/test/7.jpg - [[0]]\n",
      "./data/test/8.jpg - [[0]]\n",
      "./data/test/9.jpg - [[1]]\n"
     ]
    }
   ],
   "source": [
    "from keras.preprocessing import image\n",
    "\n",
    "data_path = './data'\n",
    "folder_name = 'test'\n",
    "ext = '*.jpg'\n",
    "\n",
    "path = os.path.join(data_path, folder_name, ext)\n",
    "files = sorted(glob(path))\n",
    "\n",
    "for f in files:\n",
    "    \n",
    "    img = image.load_img(f, target_size=(img_height, img_width))\n",
    "    x = image.img_to_array(img)\n",
    "    x = np.expand_dims(x, axis=0)\n",
    "\n",
    "    x = x / 255.0\n",
    "    \n",
    "    _preds = model.predict_classes(x, verbose=0)\n",
    "    print('{} - {}'.format(f,_preds))\n",
    "    \n"
   ]
  },
  {
   "cell_type": "code",
   "execution_count": null,
   "metadata": {},
   "outputs": [],
   "source": []
  }
 ],
 "metadata": {
  "kernelspec": {
   "display_name": "Python 3",
   "language": "python",
   "name": "python3"
  },
  "language_info": {
   "codemirror_mode": {
    "name": "ipython",
    "version": 3
   },
   "file_extension": ".py",
   "mimetype": "text/x-python",
   "name": "python",
   "nbconvert_exporter": "python",
   "pygments_lexer": "ipython3",
   "version": "3.5.4"
  }
 },
 "nbformat": 4,
 "nbformat_minor": 2
}
